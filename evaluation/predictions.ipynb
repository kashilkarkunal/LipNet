{
 "cells": [
  {
   "cell_type": "code",
   "execution_count": null,
   "metadata": {},
   "outputs": [
    {
     "name": "stderr",
     "output_type": "stream",
     "text": [
      "Using TensorFlow backend.\n"
     ]
    },
    {
     "name": "stdout",
     "output_type": "stream",
     "text": [
      "\n",
      "Loading data from disk...\n"
     ]
    },
    {
     "name": "stderr",
     "output_type": "stream",
     "text": [
      "/datasets/home/56/656/kkashilk/.local/lib/python3.6/site-packages/scipy/misc/pilutil.py:482: FutureWarning: Conversion of the second argument of issubdtype from `int` to `np.signedinteger` is deprecated. In future, it will be treated as `np.int64 == np.dtype(int).type`.\n",
      "  if issubdtype(ts, int):\n",
      "/datasets/home/56/656/kkashilk/.local/lib/python3.6/site-packages/scipy/misc/pilutil.py:485: FutureWarning: Conversion of the second argument of issubdtype from `float` to `np.floating` is deprecated. In future, it will be treated as `np.float64 == np.dtype(float).type`.\n",
      "  elif issubdtype(type(size), float):\n"
     ]
    },
    {
     "name": "stdout",
     "output_type": "stream",
     "text": [
      "Data loaded.\n",
      "\n",
      "WARNING:tensorflow:From /datasets/home/56/656/kkashilk/.local/lib/python3.6/site-packages/keras/backend/tensorflow_backend.py:1062: calling reduce_prod (from tensorflow.python.ops.math_ops) with keep_dims is deprecated and will be removed in a future version.\n",
      "Instructions for updating:\n",
      "keep_dims is deprecated, use keepdims instead\n",
      "WARNING:tensorflow:From /datasets/home/56/656/kkashilk/.local/lib/python3.6/site-packages/keras/backend/tensorflow_backend.py:1044: calling reduce_sum (from tensorflow.python.ops.math_ops) with keep_dims is deprecated and will be removed in a future version.\n",
      "Instructions for updating:\n",
      "keep_dims is deprecated, use keepdims instead\n"
     ]
    }
   ],
   "source": [
    "from lipnet.lipreading.videos import Video\n",
    "from lipnet.lipreading.visualization import show_video_subtitle\n",
    "from lipnet.core.decoders import Decoder\n",
    "from lipnet.lipreading.helpers import labels_to_text\n",
    "from lipnet.utils.spell import Spell\n",
    "from lipnet.new_model import LipNet\n",
    "from keras.optimizers import Adam\n",
    "from keras import backend as K\n",
    "import numpy as np\n",
    "import sys\n",
    "import os\n",
    "\n",
    "np.random.seed(55)\n",
    "\n",
    "CURRENT_PATH = \"/datasets/home/home-02/56/656/kkashilk/LipNet/evaluation/\"\n",
    "VIDEO_PATH = os.path.join(CURRENT_PATH, '..','datasets','video','s1','bbaf2n.mpg')\n",
    "FACE_PREDICTOR_PATH = os.path.join(CURRENT_PATH,'..','common','predictors','shape_predictor_68_face_landmarks.dat')\n",
    "\n",
    "PREDICT_GREEDY      = False\n",
    "PREDICT_BEAM_WIDTH  = 200\n",
    "PREDICT_DICTIONARY  = os.path.join(CURRENT_PATH,'..','common','dictionaries','grid.txt')\n",
    "\n",
    "def predict(weight_path, video_path, absolute_max_string_len=32, output_size=28):\n",
    "    print(\"\\nLoading data from disk...\")\n",
    "    video = Video(vtype='face', face_predictor_path=FACE_PREDICTOR_PATH)\n",
    "    if os.path.isfile(video_path):\n",
    "        video.from_video(video_path)\n",
    "    else:\n",
    "        video.from_frames(video_path)\n",
    "    print(\"Data loaded.\\n\")\n",
    "\n",
    "    if K.image_data_format() == 'channels_first':\n",
    "        img_c, frames_n, img_w, img_h = video.data.shape\n",
    "    else:\n",
    "        frames_n, img_w, img_h, img_c = video.data.shape\n",
    "\n",
    "\n",
    "    lipnet = LipNet(img_c=img_c, img_w=img_w, img_h=img_h, frames_n=frames_n,\n",
    "                    absolute_max_string_len=absolute_max_string_len, output_size=output_size)\n",
    "\n",
    "    adam = Adam(lr=0.0001, beta_1=0.9, beta_2=0.999, epsilon=1e-08)\n",
    "\n",
    "    lipnet.model.compile(loss={'ctc': lambda y_true, y_pred: y_pred}, optimizer=adam)\n",
    "    lipnet.model.load_weights(weight_path)\n",
    "\n",
    "    spell = Spell(path=PREDICT_DICTIONARY)\n",
    "    decoder = Decoder(greedy=PREDICT_GREEDY, beam_width=PREDICT_BEAM_WIDTH,\n",
    "                      postprocessors=[labels_to_text, spell.sentence])\n",
    "\n",
    "    X_data       = np.array([video.data]).astype(np.float32) / 255\n",
    "    input_length = np.array([len(video.data)])\n",
    "    print(\"Predicting Output\")\n",
    "    y_pred         = lipnet.predict(X_data)\n",
    "    result         = decoder.decode(y_pred, input_length)[0]\n",
    "\n",
    "    return (video, result)\n",
    "\n",
    "if __name__ == '__main__':\n",
    "\n",
    "    video, result = predict(\"/datasets/home/56/656/kkashilk/LipNet/training/random_split/results/100_Epochs/weights45.h5\", \\\n",
    "                            \"samples/id2_vcd_swwp2s.mpg\")\n",
    "        \n",
    "    if video is not None:\n",
    "        show_video_subtitle(video.face, result)\n",
    "\n",
    "    print(\"[ DECODED ] |> {} |\".format(result))\n"
   ]
  },
  {
   "cell_type": "code",
   "execution_count": null,
   "metadata": {},
   "outputs": [],
   "source": [
    "pwd"
   ]
  },
  {
   "cell_type": "code",
   "execution_count": null,
   "metadata": {},
   "outputs": [],
   "source": []
  }
 ],
 "metadata": {
  "kernelspec": {
   "display_name": "Python 3",
   "language": "python",
   "name": "python3"
  },
  "language_info": {
   "codemirror_mode": {
    "name": "ipython",
    "version": 3
   },
   "file_extension": ".py",
   "mimetype": "text/x-python",
   "name": "python",
   "nbconvert_exporter": "python",
   "pygments_lexer": "ipython3",
   "version": "3.6.8"
  }
 },
 "nbformat": 4,
 "nbformat_minor": 2
}
